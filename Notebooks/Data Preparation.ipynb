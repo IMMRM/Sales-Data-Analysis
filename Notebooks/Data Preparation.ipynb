{
 "cells": [
  {
   "cell_type": "markdown",
   "id": "1a3ac23e",
   "metadata": {},
   "source": [
    "<i> We've data spread across multiple files, so let's concatenate all the data as a single file prior to our analysis</i>"
   ]
  },
  {
   "cell_type": "code",
   "execution_count": 5,
   "id": "9b8088fb",
   "metadata": {},
   "outputs": [],
   "source": [
    "import pandas as pd\n",
    "import os"
   ]
  },
  {
   "cell_type": "code",
   "execution_count": 6,
   "id": "371de304",
   "metadata": {},
   "outputs": [],
   "source": [
    "path=r'C:\\Users\\asus\\Documents\\Projects\\Sales Data Analysis\\Data\\Sales_Data-20230415T100143Z-001'"
   ]
  },
  {
   "cell_type": "code",
   "execution_count": 7,
   "id": "b63b9bcb",
   "metadata": {},
   "outputs": [
    {
     "data": {
      "text/plain": [
       "(['combined_data.csv',\n",
       "  'Sales_April_2019.csv',\n",
       "  'Sales_August_2019.csv',\n",
       "  'Sales_December_2019.csv',\n",
       "  'Sales_February_2019.csv',\n",
       "  'Sales_January_2019.csv',\n",
       "  'Sales_July_2019.csv',\n",
       "  'Sales_June_2019.csv',\n",
       "  'Sales_March_2019.csv',\n",
       "  'Sales_May_2019.csv',\n",
       "  'Sales_November_2019.csv',\n",
       "  'Sales_October_2019.csv',\n",
       "  'Sales_September_2019.csv'],\n",
       " 13)"
      ]
     },
     "execution_count": 7,
     "metadata": {},
     "output_type": "execute_result"
    }
   ],
   "source": [
    "os.listdir(path),len(os.listdir(path))"
   ]
  },
  {
   "cell_type": "markdown",
   "id": "efe17981",
   "metadata": {},
   "source": [
    "<b> We see that we've 12 files across which our data is distributed and hence we should be able to merge them for our analysis</b>"
   ]
  },
  {
   "cell_type": "markdown",
   "id": "79400024",
   "metadata": {},
   "source": [
    "* so let's save the file names in a list"
   ]
  },
  {
   "cell_type": "code",
   "execution_count": 8,
   "id": "4e8b785c",
   "metadata": {},
   "outputs": [
    {
     "data": {
      "text/plain": [
       "['combined_data.csv',\n",
       " 'Sales_April_2019.csv',\n",
       " 'Sales_August_2019.csv',\n",
       " 'Sales_December_2019.csv',\n",
       " 'Sales_February_2019.csv',\n",
       " 'Sales_January_2019.csv',\n",
       " 'Sales_July_2019.csv',\n",
       " 'Sales_June_2019.csv',\n",
       " 'Sales_March_2019.csv',\n",
       " 'Sales_May_2019.csv',\n",
       " 'Sales_November_2019.csv',\n",
       " 'Sales_October_2019.csv',\n",
       " 'Sales_September_2019.csv']"
      ]
     },
     "execution_count": 8,
     "metadata": {},
     "output_type": "execute_result"
    }
   ],
   "source": [
    "file_names=os.listdir(path)\n",
    "file_names"
   ]
  },
  {
   "cell_type": "code",
   "execution_count": 9,
   "id": "cfc323a6",
   "metadata": {},
   "outputs": [
    {
     "name": "stdout",
     "output_type": "stream",
     "text": [
      "Total records and columns in combined file are: (373700, 7)\n"
     ]
    }
   ],
   "source": [
    "combined_data=pd.DataFrame()\n",
    "for file in file_names:\n",
    "    temp_df=pd.read_csv(path+'/'+file)\n",
    "    combined_data=pd.concat([combined_data,temp_df])\n",
    "\n",
    "print(\"Total records and columns in combined file are:\",combined_data.shape)\n",
    "    \n",
    "    \n",
    "    "
   ]
  },
  {
   "cell_type": "code",
   "execution_count": 10,
   "id": "51ea0785",
   "metadata": {},
   "outputs": [
    {
     "data": {
      "text/html": [
       "<div>\n",
       "<style scoped>\n",
       "    .dataframe tbody tr th:only-of-type {\n",
       "        vertical-align: middle;\n",
       "    }\n",
       "\n",
       "    .dataframe tbody tr th {\n",
       "        vertical-align: top;\n",
       "    }\n",
       "\n",
       "    .dataframe thead th {\n",
       "        text-align: right;\n",
       "    }\n",
       "</style>\n",
       "<table border=\"1\" class=\"dataframe\">\n",
       "  <thead>\n",
       "    <tr style=\"text-align: right;\">\n",
       "      <th></th>\n",
       "      <th>Unnamed: 0</th>\n",
       "      <th>Order ID</th>\n",
       "      <th>Product</th>\n",
       "      <th>Quantity Ordered</th>\n",
       "      <th>Price Each</th>\n",
       "      <th>Order Date</th>\n",
       "      <th>Purchase Address</th>\n",
       "    </tr>\n",
       "  </thead>\n",
       "  <tbody>\n",
       "    <tr>\n",
       "      <th>0</th>\n",
       "      <td>0.0</td>\n",
       "      <td>176558</td>\n",
       "      <td>USB-C Charging Cable</td>\n",
       "      <td>2</td>\n",
       "      <td>11.95</td>\n",
       "      <td>04/19/19 08:46</td>\n",
       "      <td>917 1st St, Dallas, TX 75001</td>\n",
       "    </tr>\n",
       "    <tr>\n",
       "      <th>1</th>\n",
       "      <td>1.0</td>\n",
       "      <td>NaN</td>\n",
       "      <td>NaN</td>\n",
       "      <td>NaN</td>\n",
       "      <td>NaN</td>\n",
       "      <td>NaN</td>\n",
       "      <td>NaN</td>\n",
       "    </tr>\n",
       "    <tr>\n",
       "      <th>2</th>\n",
       "      <td>2.0</td>\n",
       "      <td>176559</td>\n",
       "      <td>Bose SoundSport Headphones</td>\n",
       "      <td>1</td>\n",
       "      <td>99.99</td>\n",
       "      <td>04/07/19 22:30</td>\n",
       "      <td>682 Chestnut St, Boston, MA 02215</td>\n",
       "    </tr>\n",
       "    <tr>\n",
       "      <th>3</th>\n",
       "      <td>3.0</td>\n",
       "      <td>176560</td>\n",
       "      <td>Google Phone</td>\n",
       "      <td>1</td>\n",
       "      <td>600</td>\n",
       "      <td>04/12/19 14:38</td>\n",
       "      <td>669 Spruce St, Los Angeles, CA 90001</td>\n",
       "    </tr>\n",
       "    <tr>\n",
       "      <th>4</th>\n",
       "      <td>4.0</td>\n",
       "      <td>176560</td>\n",
       "      <td>Wired Headphones</td>\n",
       "      <td>1</td>\n",
       "      <td>11.99</td>\n",
       "      <td>04/12/19 14:38</td>\n",
       "      <td>669 Spruce St, Los Angeles, CA 90001</td>\n",
       "    </tr>\n",
       "    <tr>\n",
       "      <th>5</th>\n",
       "      <td>5.0</td>\n",
       "      <td>176561</td>\n",
       "      <td>Wired Headphones</td>\n",
       "      <td>1</td>\n",
       "      <td>11.99</td>\n",
       "      <td>04/30/19 09:27</td>\n",
       "      <td>333 8th St, Los Angeles, CA 90001</td>\n",
       "    </tr>\n",
       "    <tr>\n",
       "      <th>6</th>\n",
       "      <td>6.0</td>\n",
       "      <td>176562</td>\n",
       "      <td>USB-C Charging Cable</td>\n",
       "      <td>1</td>\n",
       "      <td>11.95</td>\n",
       "      <td>04/29/19 13:03</td>\n",
       "      <td>381 Wilson St, San Francisco, CA 94016</td>\n",
       "    </tr>\n",
       "    <tr>\n",
       "      <th>7</th>\n",
       "      <td>7.0</td>\n",
       "      <td>176563</td>\n",
       "      <td>Bose SoundSport Headphones</td>\n",
       "      <td>1</td>\n",
       "      <td>99.99</td>\n",
       "      <td>04/02/19 07:46</td>\n",
       "      <td>668 Center St, Seattle, WA 98101</td>\n",
       "    </tr>\n",
       "    <tr>\n",
       "      <th>8</th>\n",
       "      <td>8.0</td>\n",
       "      <td>176564</td>\n",
       "      <td>USB-C Charging Cable</td>\n",
       "      <td>1</td>\n",
       "      <td>11.95</td>\n",
       "      <td>04/12/19 10:58</td>\n",
       "      <td>790 Ridge St, Atlanta, GA 30301</td>\n",
       "    </tr>\n",
       "    <tr>\n",
       "      <th>9</th>\n",
       "      <td>9.0</td>\n",
       "      <td>176565</td>\n",
       "      <td>Macbook Pro Laptop</td>\n",
       "      <td>1</td>\n",
       "      <td>1700</td>\n",
       "      <td>04/24/19 10:38</td>\n",
       "      <td>915 Willow St, San Francisco, CA 94016</td>\n",
       "    </tr>\n",
       "  </tbody>\n",
       "</table>\n",
       "</div>"
      ],
      "text/plain": [
       "   Unnamed: 0 Order ID                     Product Quantity Ordered   \n",
       "0         0.0   176558        USB-C Charging Cable                2  \\\n",
       "1         1.0      NaN                         NaN              NaN   \n",
       "2         2.0   176559  Bose SoundSport Headphones                1   \n",
       "3         3.0   176560                Google Phone                1   \n",
       "4         4.0   176560            Wired Headphones                1   \n",
       "5         5.0   176561            Wired Headphones                1   \n",
       "6         6.0   176562        USB-C Charging Cable                1   \n",
       "7         7.0   176563  Bose SoundSport Headphones                1   \n",
       "8         8.0   176564        USB-C Charging Cable                1   \n",
       "9         9.0   176565          Macbook Pro Laptop                1   \n",
       "\n",
       "  Price Each      Order Date                        Purchase Address  \n",
       "0      11.95  04/19/19 08:46            917 1st St, Dallas, TX 75001  \n",
       "1        NaN             NaN                                     NaN  \n",
       "2      99.99  04/07/19 22:30       682 Chestnut St, Boston, MA 02215  \n",
       "3        600  04/12/19 14:38    669 Spruce St, Los Angeles, CA 90001  \n",
       "4      11.99  04/12/19 14:38    669 Spruce St, Los Angeles, CA 90001  \n",
       "5      11.99  04/30/19 09:27       333 8th St, Los Angeles, CA 90001  \n",
       "6      11.95  04/29/19 13:03  381 Wilson St, San Francisco, CA 94016  \n",
       "7      99.99  04/02/19 07:46        668 Center St, Seattle, WA 98101  \n",
       "8      11.95  04/12/19 10:58         790 Ridge St, Atlanta, GA 30301  \n",
       "9       1700  04/24/19 10:38  915 Willow St, San Francisco, CA 94016  "
      ]
     },
     "execution_count": 10,
     "metadata": {},
     "output_type": "execute_result"
    }
   ],
   "source": [
    "combined_data.head(10)"
   ]
  },
  {
   "cell_type": "markdown",
   "id": "3461d14f",
   "metadata": {},
   "source": [
    "<i> Now that we've the data combined, let's export this dataset</i>"
   ]
  },
  {
   "cell_type": "code",
   "execution_count": 11,
   "id": "a59f405b",
   "metadata": {},
   "outputs": [],
   "source": [
    "combined_data.to_csv(path+'/'+'combined_data.csv')"
   ]
  }
 ],
 "metadata": {
  "kernelspec": {
   "display_name": "sales",
   "language": "python",
   "name": "python3"
  },
  "language_info": {
   "codemirror_mode": {
    "name": "ipython",
    "version": 3
   },
   "file_extension": ".py",
   "mimetype": "text/x-python",
   "name": "python",
   "nbconvert_exporter": "python",
   "pygments_lexer": "ipython3",
   "version": "3.11.2"
  },
  "vscode": {
   "interpreter": {
    "hash": "1e71d6ed7f01b080a3ee6b43643b921711b168523e7961a589f3354bbea7d7ac"
   }
  }
 },
 "nbformat": 4,
 "nbformat_minor": 5
}
